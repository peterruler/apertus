{
  "cells": [
    {
      "cell_type": "markdown",
      "metadata": {
        "colab_type": "text",
        "id": "view-in-github"
      },
      "source": [
        "<a href=\"https://colab.research.google.com/github/peterruler/apertus/blob/main/apertus.ipynb\" target=\"_parent\"><img src=\"https://colab.research.google.com/assets/colab-badge.svg\" alt=\"Open In Colab\"/></a>"
      ]
    },
    {
      "cell_type": "code",
      "execution_count": 2,
      "metadata": {
        "colab": {
          "base_uri": "https://localhost:8080/"
        },
        "id": "eDFkgpe_tfsa",
        "outputId": "0a9fdeb1-a2d2-4c4d-cfdd-addec0be5f94"
      },
      "outputs": [
        {
          "name": "stdout",
          "output_type": "stream",
          "text": [
            "Requirement already satisfied: transformers in /usr/local/lib/python3.12/dist-packages (4.56.0)\n",
            "Requirement already satisfied: filelock in /usr/local/lib/python3.12/dist-packages (from transformers) (3.19.1)\n",
            "Requirement already satisfied: huggingface-hub<1.0,>=0.34.0 in /usr/local/lib/python3.12/dist-packages (from transformers) (0.34.4)\n",
            "Requirement already satisfied: numpy>=1.17 in /usr/local/lib/python3.12/dist-packages (from transformers) (2.0.2)\n",
            "Requirement already satisfied: packaging>=20.0 in /usr/local/lib/python3.12/dist-packages (from transformers) (25.0)\n",
            "Requirement already satisfied: pyyaml>=5.1 in /usr/local/lib/python3.12/dist-packages (from transformers) (6.0.2)\n",
            "Requirement already satisfied: regex!=2019.12.17 in /usr/local/lib/python3.12/dist-packages (from transformers) (2024.11.6)\n",
            "Requirement already satisfied: requests in /usr/local/lib/python3.12/dist-packages (from transformers) (2.32.4)\n",
            "Requirement already satisfied: tokenizers<=0.23.0,>=0.22.0 in /usr/local/lib/python3.12/dist-packages (from transformers) (0.22.0)\n",
            "Requirement already satisfied: safetensors>=0.4.3 in /usr/local/lib/python3.12/dist-packages (from transformers) (0.6.2)\n",
            "Requirement already satisfied: tqdm>=4.27 in /usr/local/lib/python3.12/dist-packages (from transformers) (4.67.1)\n",
            "Requirement already satisfied: fsspec>=2023.5.0 in /usr/local/lib/python3.12/dist-packages (from huggingface-hub<1.0,>=0.34.0->transformers) (2025.3.0)\n",
            "Requirement already satisfied: typing-extensions>=3.7.4.3 in /usr/local/lib/python3.12/dist-packages (from huggingface-hub<1.0,>=0.34.0->transformers) (4.15.0)\n",
            "Requirement already satisfied: hf-xet<2.0.0,>=1.1.3 in /usr/local/lib/python3.12/dist-packages (from huggingface-hub<1.0,>=0.34.0->transformers) (1.1.9)\n",
            "Requirement already satisfied: charset_normalizer<4,>=2 in /usr/local/lib/python3.12/dist-packages (from requests->transformers) (3.4.3)\n",
            "Requirement already satisfied: idna<4,>=2.5 in /usr/local/lib/python3.12/dist-packages (from requests->transformers) (3.10)\n",
            "Requirement already satisfied: urllib3<3,>=1.21.1 in /usr/local/lib/python3.12/dist-packages (from requests->transformers) (2.5.0)\n",
            "Requirement already satisfied: certifi>=2017.4.17 in /usr/local/lib/python3.12/dist-packages (from requests->transformers) (2025.8.3)\n"
          ]
        }
      ],
      "source": [
        "!pip install -U transformers"
      ]
    },
    {
      "cell_type": "code",
      "execution_count": 3,
      "metadata": {
        "colab": {
          "base_uri": "https://localhost:8080/",
          "height": 522,
          "referenced_widgets": [
            "f8b51398168f486a81c8d1b7ddb5d5ae",
            "0b96fb2b7d3d4176a5c70a9c4d94f8d8",
            "04b5affe28794c89b939d5fd0db474d1",
            "a8881c13d217418289c5f7385540ca4a",
            "3c277f37791a40f1986af53a025ae3b7",
            "859ca7bc77454f5b88d23a2d2cc296d7",
            "202c82683f674cc0aed80e10ba2bc2a0",
            "97f88f3993364a9ab723cb5a3e94c9f4",
            "ffdbc9fe82ce4adf83203d6fd0e1070b",
            "d72af6ac52de4a609baf6d8bc0607151",
            "3fa70265c93745d7bbcbe3cccb06e7c7",
            "94109f0677344a288da9910065473f16",
            "2cfb3f06fb1b41c48f2236218ec34496",
            "5249f279de81429d8cdd384721a9a2d1",
            "d3154e3aff744963b15e150f78e1e501",
            "8e83d50c35614cceae37d72799e2c77f",
            "02e5e329d62f4e82926f702cef016138",
            "95e2b7f666f44afe8d7eb134c4113b35",
            "8f9d79f416db4e2cb6d4958bc6e2995d",
            "3048227d96af4b3ebea22ea14e902b49",
            "54983a3ddd2546229cff6cd1815e3a11",
            "6679922a0531483e8b07a22f27279e0a",
            "e435186927ae4d68a02a112ba108c5d0",
            "8b8ece892d4f445eb5e9e045bcd88bba",
            "7e19b246d0724586a8d602d07cbe8d49",
            "909fd96c20194c0ca5391632a3aa8394",
            "8dd9b74d23194d67af6332e2bfee85af",
            "49710aebad6949bda7ecd27b774349ef",
            "435bdd446f9f43018de19d75b7331fe4",
            "a87dbb602c164d28ab292564b4c94450",
            "d5830fa60ad940b59fdae710f0e180e0",
            "1b49acbcb74a4f03b740d2b22d89a227",
            "045a3fd7d53845ab9f59ed2490b514f6",
            "a738d2305624436a8137dfb609a759e8",
            "1fdf2b61aeec43ecbf8bc76558e0d668",
            "aefc9aa9784d43eb9c6932c238a5414f",
            "b7ac15461fff4e07a11cbed89e03adbb",
            "73895e97e4e341c786139c1c9cd5f6c7",
            "4781cf59c42141b789cbd0a97b43bdfb",
            "150246dcbfca463c837aa316dd40529a",
            "6f30688f23294dc9805c4fe367838aca",
            "946aa7d2915a484c8582bb9b7fa781ec",
            "95c1b8c3b25f4beab7bf2983b00e38c2",
            "2e71a6e41e0b42e587d8bbbc810d3479",
            "0b0b1495c241450c8f3cf355316c78c3",
            "5a38b1d27dce4b4bbdc27052d3128c6e",
            "399ec37dc99c4775a68be8c6834b1d5b",
            "b037b4646efc4b5eb5b47c24c8790268",
            "22d792d85bb046d699ab5613ecba27d3",
            "70d6590bb5cd4a1cbe5d9ce8db63fc3e",
            "996cb5e07f474eef8ce78d096958fcbb",
            "137b69ba170e43e8944465accd1ecd5f",
            "1bdde1d57824485499925d225508e330",
            "b541d686d0334921b6f280415826b25d",
            "2c9e513fa5e34dc694fd62686ed9735d",
            "ef5af003257e4ca8af3a553af8740d1a",
            "bca531145ebd4c29961dd56994764920",
            "90ac8d62673b4f03aee3415c93ec59ce",
            "bab145b0af564357906a71199747284a",
            "7fbb9b4569ae4866895284bf8d82b1fc",
            "fa0f9ad962014b45b574b913f9f49fb3",
            "b34166cef7114c61ab009d2a31ebee8f",
            "e1a4d784b6d64a678e00a89b98c79429",
            "e67cca499c0549b0a8b58413db81f800",
            "8e2028f510ab44e0a0e0af5fc7e94a4c",
            "56fa6bec73714a1aa3fa818135544cee",
            "436cfdd1cdf04c0eb7b7c7785e0c0e07",
            "a9391f446b6f4552a774aab5c383c656",
            "7f99d5a5bb064fd498b94d05b533b375",
            "9eb61f0535334adc83d627727b75104f",
            "490f1ab92a954a059b0e68e648ce4c0d",
            "b0473daa94094e168891d7b696a9ee7f",
            "d59c2909699a431388f96922fe2445cf",
            "b2d5679cfe6f4e1b938fc103be158622",
            "cc91da4944b64dd68655e953111c04f5",
            "65c16ae5a1c54c8dbd0221d210b88ebb",
            "fad1d77a67b74930ba753719a4b6f5aa",
            "2c705ffa7f4c42f695689a8a787e4452",
            "3ef1a7dfe8a64b6199dedd09426d3716",
            "9fba345bca0f4c82af2db8b1e09f03c4",
            "9d5d7753804a4e259e7fe98e90eb02f3",
            "94a7098ab27d4ab5b86850b606da3942",
            "3338b9fb1cf648f2a43c7481c9951737",
            "1ed681aca42f4d8b910a31808ecddc66",
            "f680c0b6c0b64d5898a74f92692b0535",
            "da803fca58a247f2a58ae4361363b9e3",
            "390a673f832f455e9a12728d70ff1fe0",
            "86d67aa67164433ea3bf49cd7b1dcc87",
            "463f22162a784aa98df3ce93e4ea706d",
            "783f691fe73443388499b7639f13ed96",
            "4a481af376c346d5806f95848c4af9b0",
            "2d3f665f570b4434abef1374544f6195",
            "65af6aa7ecec457cb9e93cc252c8feec",
            "530d11625e3a464aad4f72b076043e28",
            "1f60ce40507c4cf4aba2e0d74a3981d0",
            "3feab79779b24c81a0748dc3d6501d11",
            "9aedf49d81204118ba443453a3821c83",
            "3ccf7b99a91340c48f60d1e43b5e5cf2",
            "5cbac1136db94a1497c1285fd7e4e687",
            "f0a2528f180248e1bf7577e3dcf922ed",
            "d85c25df309c422c8a505dfac205c807",
            "0ff39fee976d4678b28b64d6bb73623c",
            "edb570f012d34d41bdea5f62b6ca9113",
            "15cf8d9b70b94bd1a8c4a02f84b3660a",
            "8ba5143028674928989852a583009b52",
            "6b2efe50d9534250ae5afdc2b5d01b21",
            "4fa6284d6c65410b9c54785b2bb32080",
            "193b564be6e4458999425619232ce003",
            "06a27e9ababd44f58bf2e9e968c27945",
            "9081633c60d2494cafcf3c53015b44f3",
            "e12ac4167c2f43ca96c2bcbe6ed70134",
            "f7f4d8318df34605b898aa23f08a33ca",
            "93c5eeb99498419c9818d51e25c1962b",
            "c4ca623d99ea4957ad286c67528be0d7",
            "3049add343714090839793176ee3f064",
            "3dc8bd158bd8484ebbde6fca73c5a0b6",
            "5962bfb960824834990eed25922fd26e",
            "62504a78b6fa4637bcd0f6bdc5858a0a",
            "282372550db34b7f85ab458cfeb2cd55",
            "05b0bfb17b6a4ee9b71018366d26cbbe",
            "9ca66f5656074c71b3b94f9a58d841e6",
            "af64435f78474d428b2ab766fd4e93d7",
            "530123eefcaa4e92aa514db3d10b6ff8",
            "6687d8ba88bc450e8e20c8ba03271cf9",
            "019b942f16d241d7bb361e2542e6b881",
            "5aab7a5ae2584e308019751f2a515845",
            "7a396903351a4b64a8410a6462c4c73d",
            "fdf4e5e7b7a74fa7bd0346273ad5e709",
            "68e41ba7a16d41daa01b33364c3ce55e",
            "f4a77134a9fd45fa82168aa7f6b43b95",
            "c0c466115faf4d7c89a2aa69ea8b8720",
            "9661d83939ed4f4a82b0dcac60bc787b",
            "0cdaff7a45454e0bbe0baeddfbe30e83",
            "7decc39e5db64d86858f8823349ba71c",
            "2893790026454dc79c7b14549a8627ce",
            "644e451179e348fcad88fbf14beae0f8",
            "85d293c60b1147eea1dd8dec4fa859e8",
            "81e50d1729124a94972eaee7298fa1cb",
            "b72ab7cf97864fdfa9f07a1941049c30",
            "cf8597af4f7447bbbf1af1b158041b77",
            "7dc871c4dd5b47bdb047b442cc892c5c",
            "5970302227fa46a18bd63ba84054ee66",
            "49b92e7ad6fd4fc9a93d66af1aad2078"
          ]
        },
        "id": "NBMPdRYktmKz",
        "outputId": "7b00a702-c906-4f6b-e0a5-477149933d47"
      },
      "outputs": [
        {
          "data": {
            "application/vnd.jupyter.widget-view+json": {
              "model_id": "f8b51398168f486a81c8d1b7ddb5d5ae",
              "version_major": 2,
              "version_minor": 0
            },
            "text/plain": [
              "tokenizer_config.json:   0%|          | 0.00/177k [00:00<?, ?B/s]"
            ]
          },
          "metadata": {},
          "output_type": "display_data"
        },
        {
          "data": {
            "application/vnd.jupyter.widget-view+json": {
              "model_id": "94109f0677344a288da9910065473f16",
              "version_major": 2,
              "version_minor": 0
            },
            "text/plain": [
              "tokenizer.json:   0%|          | 0.00/17.1M [00:00<?, ?B/s]"
            ]
          },
          "metadata": {},
          "output_type": "display_data"
        },
        {
          "data": {
            "application/vnd.jupyter.widget-view+json": {
              "model_id": "e435186927ae4d68a02a112ba108c5d0",
              "version_major": 2,
              "version_minor": 0
            },
            "text/plain": [
              "special_tokens_map.json:   0%|          | 0.00/337 [00:00<?, ?B/s]"
            ]
          },
          "metadata": {},
          "output_type": "display_data"
        },
        {
          "data": {
            "application/vnd.jupyter.widget-view+json": {
              "model_id": "a738d2305624436a8137dfb609a759e8",
              "version_major": 2,
              "version_minor": 0
            },
            "text/plain": [
              "chat_template.jinja:   0%|          | 0.00/14.0k [00:00<?, ?B/s]"
            ]
          },
          "metadata": {},
          "output_type": "display_data"
        },
        {
          "data": {
            "application/vnd.jupyter.widget-view+json": {
              "model_id": "0b0b1495c241450c8f3cf355316c78c3",
              "version_major": 2,
              "version_minor": 0
            },
            "text/plain": [
              "config.json:   0%|          | 0.00/901 [00:00<?, ?B/s]"
            ]
          },
          "metadata": {},
          "output_type": "display_data"
        },
        {
          "data": {
            "application/vnd.jupyter.widget-view+json": {
              "model_id": "ef5af003257e4ca8af3a553af8740d1a",
              "version_major": 2,
              "version_minor": 0
            },
            "text/plain": [
              "model.safetensors.index.json:   0%|          | 0.00/36.5k [00:00<?, ?B/s]"
            ]
          },
          "metadata": {},
          "output_type": "display_data"
        },
        {
          "data": {
            "application/vnd.jupyter.widget-view+json": {
              "model_id": "436cfdd1cdf04c0eb7b7c7785e0c0e07",
              "version_major": 2,
              "version_minor": 0
            },
            "text/plain": [
              "Fetching 4 files:   0%|          | 0/4 [00:00<?, ?it/s]"
            ]
          },
          "metadata": {},
          "output_type": "display_data"
        },
        {
          "data": {
            "application/vnd.jupyter.widget-view+json": {
              "model_id": "2c705ffa7f4c42f695689a8a787e4452",
              "version_major": 2,
              "version_minor": 0
            },
            "text/plain": [
              "model-00004-of-00004.safetensors:   0%|          | 0.00/1.25G [00:00<?, ?B/s]"
            ]
          },
          "metadata": {},
          "output_type": "display_data"
        },
        {
          "data": {
            "application/vnd.jupyter.widget-view+json": {
              "model_id": "463f22162a784aa98df3ce93e4ea706d",
              "version_major": 2,
              "version_minor": 0
            },
            "text/plain": [
              "model-00002-of-00004.safetensors:   0%|          | 0.00/4.88G [00:00<?, ?B/s]"
            ]
          },
          "metadata": {},
          "output_type": "display_data"
        },
        {
          "data": {
            "application/vnd.jupyter.widget-view+json": {
              "model_id": "f0a2528f180248e1bf7577e3dcf922ed",
              "version_major": 2,
              "version_minor": 0
            },
            "text/plain": [
              "model-00001-of-00004.safetensors:   0%|          | 0.00/5.00G [00:00<?, ?B/s]"
            ]
          },
          "metadata": {},
          "output_type": "display_data"
        },
        {
          "data": {
            "application/vnd.jupyter.widget-view+json": {
              "model_id": "e12ac4167c2f43ca96c2bcbe6ed70134",
              "version_major": 2,
              "version_minor": 0
            },
            "text/plain": [
              "model-00003-of-00004.safetensors:   0%|          | 0.00/4.97G [00:00<?, ?B/s]"
            ]
          },
          "metadata": {},
          "output_type": "display_data"
        },
        {
          "name": "stderr",
          "output_type": "stream",
          "text": [
            "CUDA-fused xIELU not available (No module named 'xielu') – falling back to a Python version.\n",
            "For CUDA xIELU (experimental), `pip install git+https://github.com/nickjbrowning/XIELU`\n"
          ]
        },
        {
          "data": {
            "application/vnd.jupyter.widget-view+json": {
              "model_id": "af64435f78474d428b2ab766fd4e93d7",
              "version_major": 2,
              "version_minor": 0
            },
            "text/plain": [
              "Loading checkpoint shards:   0%|          | 0/4 [00:00<?, ?it/s]"
            ]
          },
          "metadata": {},
          "output_type": "display_data"
        },
        {
          "data": {
            "application/vnd.jupyter.widget-view+json": {
              "model_id": "0cdaff7a45454e0bbe0baeddfbe30e83",
              "version_major": 2,
              "version_minor": 0
            },
            "text/plain": [
              "generation_config.json:   0%|          | 0.00/126 [00:00<?, ?B/s]"
            ]
          },
          "metadata": {},
          "output_type": "display_data"
        },
        {
          "name": "stderr",
          "output_type": "stream",
          "text": [
            "Setting `pad_token_id` to `eos_token_id`:2 for open-end generation.\n"
          ]
        },
        {
          "name": "stdout",
          "output_type": "stream",
          "text": [
            "Gravity is a force that pulls objects towards each other. It's what keeps us on the ground and what makes planets orbit around stars. The more massive an object is, the stronger its gravitational pull.\n"
          ]
        }
      ],
      "source": [
        "from transformers import AutoModelForCausalLM, AutoTokenizer\n",
        "\n",
        "model_name = \"swiss-ai/Apertus-8B-Instruct-2509\"\n",
        "device = \"cuda\"  # for GPU usage or \"cpu\" for CPU usage\n",
        "\n",
        "# load the tokenizer and the model\n",
        "tokenizer = AutoTokenizer.from_pretrained(model_name)\n",
        "model = AutoModelForCausalLM.from_pretrained(\n",
        "    model_name,\n",
        ").to(device)\n",
        "\n",
        "# prepare the model input\n",
        "prompt = \"Give me a brief explanation of gravity in simple terms.\"\n",
        "messages_think = [\n",
        "    {\"role\": \"user\", \"content\": prompt}\n",
        "]\n",
        "\n",
        "text = tokenizer.apply_chat_template(\n",
        "    messages_think,\n",
        "    tokenize=False,\n",
        "    add_generation_prompt=True,\n",
        ")\n",
        "model_inputs = tokenizer([text], return_tensors=\"pt\", add_special_tokens=False).to(model.device)\n",
        "\n",
        "# Generate the output\n",
        "generated_ids = model.generate(**model_inputs, max_new_tokens=32768)\n",
        "\n",
        "# Get and decode the output\n",
        "output_ids = generated_ids[0][len(model_inputs.input_ids[0]) :]\n",
        "print(tokenizer.decode(output_ids, skip_special_tokens=True))\n"
      ]
    }
  ],
  "metadata": {
    "accelerator": "GPU",
    "colab": {
      "authorship_tag": "ABX9TyMZY1mCnKg8hpoCq7dDpgtB",
      "gpuType": "A100",
      "include_colab_link": true,
      "machine_shape": "hm",
      "provenance": []
    },
    "kernelspec": {
      "display_name": "Python 3",
      "name": "python3"
    },
    "language_info": {
      "name": "python"
    }
  },
  "nbformat": 4,
  "nbformat_minor": 0
}
